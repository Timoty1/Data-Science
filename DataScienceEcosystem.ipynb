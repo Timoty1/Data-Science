{
 "cells": [
  {
   "cell_type": "markdown",
   "id": "47ae89ea-94c3-474e-b601-a4171acec135",
   "metadata": {},
   "source": [
    "Data Science Tools and Ecosystem"
   ]
  },
  {
   "cell_type": "markdown",
   "id": "ff9c8791-edce-4055-a785-5268d2ae8c00",
   "metadata": {},
   "source": [
    "In this notebook, Data Science Tools and Ecosystem are summarized"
   ]
  },
  {
   "cell_type": "markdown",
   "id": "d5712153-39b5-42b6-a724-f041f72c200f",
   "metadata": {},
   "source": [
    "Objectives:\n",
    "- List of popular Languages dor Data Science\n",
    "- List of popular libraries for Data Science\n",
    "- List of popular Tools for Data Science\n",
    "- Example of multiply and add\n",
    "- Example of division"
   ]
  },
  {
   "cell_type": "markdown",
   "id": "677974c7-f8e2-4227-991a-7659693d727c",
   "metadata": {},
   "source": [
    "Some of the popular languages that Data Scientist use are:\n",
    "1. Julia\n",
    "2. Pyhton\n",
    "3. R"
   ]
  },
  {
   "cell_type": "markdown",
   "id": "fd1e1b5a-7e13-4328-9a58-1acdddbdeb2f",
   "metadata": {},
   "source": [
    "Some of the commonly used libraries used by Data Scientist include:\n",
    "1. pandas\n",
    "2. numpy\n",
    "3. matplotlib.pyplot"
   ]
  },
  {
   "cell_type": "markdown",
   "id": "5075b7a8-f873-4a72-b490-952905037815",
   "metadata": {},
   "source": [
    "|Data Science Tools |\n",
    "|-------------------|\n",
    "|jupyter            |\n",
    "|R lab              |\n",
    "|Github             |"
   ]
  },
  {
   "cell_type": "markdown",
   "id": "262ece34-29cc-4de6-9a22-281dfbe8637d",
   "metadata": {},
   "source": [
    "### Below are a few examples of evaluating arithmetic expressions in Python"
   ]
  },
  {
   "cell_type": "code",
   "execution_count": 2,
   "id": "2d96e98a-d2bb-4dd1-bec4-8445f37d8e86",
   "metadata": {},
   "outputs": [
    {
     "data": {
      "text/plain": [
       "17"
      ]
     },
     "execution_count": 2,
     "metadata": {},
     "output_type": "execute_result"
    }
   ],
   "source": [
    "(3*4)+5\n",
    "# This is a simple arithmetic expression to multiply then add intergers"
   ]
  },
  {
   "cell_type": "code",
   "execution_count": 3,
   "id": "43904d0c-92f1-496f-8a85-b58b67cca649",
   "metadata": {},
   "outputs": [
    {
     "data": {
      "text/plain": [
       "3.3333333333333335"
      ]
     },
     "execution_count": 3,
     "metadata": {},
     "output_type": "execute_result"
    }
   ],
   "source": [
    "# This will convert 200 minutes to hours by dividing by 60\n",
    "200/60\n"
   ]
  },
  {
   "cell_type": "markdown",
   "id": "bdd3770a-0e58-4cfe-809b-7e4c0d2a5f26",
   "metadata": {},
   "source": [
    "## Author\n",
    "Eric Timotius Tan"
   ]
  }
 ],
 "metadata": {
  "kernelspec": {
   "display_name": "Python 3 (ipykernel)",
   "language": "python",
   "name": "python3"
  },
  "language_info": {
   "codemirror_mode": {
    "name": "ipython",
    "version": 3
   },
   "file_extension": ".py",
   "mimetype": "text/x-python",
   "name": "python",
   "nbconvert_exporter": "python",
   "pygments_lexer": "ipython3",
   "version": "3.12.7"
  }
 },
 "nbformat": 4,
 "nbformat_minor": 5
}
